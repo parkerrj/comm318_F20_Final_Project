{
 "cells": [
  {
   "cell_type": "markdown",
   "metadata": {},
   "source": [
    "# Initial COVID-19 data exploration\n",
    "* Questions considered/trying to find if:\n",
    "    * the dates where the most deaths/cases occured if it lines up with peaks in anxiety/depression searches from trends in other data exploration folder"
   ]
  },
  {
   "cell_type": "code",
   "execution_count": 1,
   "metadata": {},
   "outputs": [],
   "source": [
    "import pandas as pd\n",
    "import matplotlib.pyplot as plt\n",
    "import warnings\n",
    "warnings.filterwarnings('ignore')"
   ]
  },
  {
   "cell_type": "code",
   "execution_count": 2,
   "metadata": {},
   "outputs": [],
   "source": [
    "covid_df = pd.read_csv('../data/us_states_cases.csv')"
   ]
  },
  {
   "cell_type": "code",
   "execution_count": 3,
   "metadata": {},
   "outputs": [
    {
     "data": {
      "text/plain": [
       "(12499, 5)"
      ]
     },
     "execution_count": 3,
     "metadata": {},
     "output_type": "execute_result"
    }
   ],
   "source": [
    "covid_df.shape"
   ]
  },
  {
   "cell_type": "code",
   "execution_count": 4,
   "metadata": {},
   "outputs": [
    {
     "data": {
      "text/plain": [
       "Index(['date', 'state', 'fips', 'cases', 'deaths'], dtype='object')"
      ]
     },
     "execution_count": 4,
     "metadata": {},
     "output_type": "execute_result"
    }
   ],
   "source": [
    "covid_df.columns"
   ]
  },
  {
   "cell_type": "code",
   "execution_count": 5,
   "metadata": {},
   "outputs": [
    {
     "data": {
      "text/html": [
       "<div>\n",
       "<style scoped>\n",
       "    .dataframe tbody tr th:only-of-type {\n",
       "        vertical-align: middle;\n",
       "    }\n",
       "\n",
       "    .dataframe tbody tr th {\n",
       "        vertical-align: top;\n",
       "    }\n",
       "\n",
       "    .dataframe thead th {\n",
       "        text-align: right;\n",
       "    }\n",
       "</style>\n",
       "<table border=\"1\" class=\"dataframe\">\n",
       "  <thead>\n",
       "    <tr style=\"text-align: right;\">\n",
       "      <th></th>\n",
       "      <th>date</th>\n",
       "      <th>state</th>\n",
       "      <th>fips</th>\n",
       "      <th>cases</th>\n",
       "      <th>deaths</th>\n",
       "    </tr>\n",
       "  </thead>\n",
       "  <tbody>\n",
       "    <tr>\n",
       "      <th>0</th>\n",
       "      <td>2020-01-21</td>\n",
       "      <td>Washington</td>\n",
       "      <td>53</td>\n",
       "      <td>1</td>\n",
       "      <td>0</td>\n",
       "    </tr>\n",
       "    <tr>\n",
       "      <th>1</th>\n",
       "      <td>2020-01-22</td>\n",
       "      <td>Washington</td>\n",
       "      <td>53</td>\n",
       "      <td>1</td>\n",
       "      <td>0</td>\n",
       "    </tr>\n",
       "    <tr>\n",
       "      <th>2</th>\n",
       "      <td>2020-01-23</td>\n",
       "      <td>Washington</td>\n",
       "      <td>53</td>\n",
       "      <td>1</td>\n",
       "      <td>0</td>\n",
       "    </tr>\n",
       "    <tr>\n",
       "      <th>3</th>\n",
       "      <td>2020-01-24</td>\n",
       "      <td>Illinois</td>\n",
       "      <td>17</td>\n",
       "      <td>1</td>\n",
       "      <td>0</td>\n",
       "    </tr>\n",
       "    <tr>\n",
       "      <th>4</th>\n",
       "      <td>2020-01-24</td>\n",
       "      <td>Washington</td>\n",
       "      <td>53</td>\n",
       "      <td>1</td>\n",
       "      <td>0</td>\n",
       "    </tr>\n",
       "    <tr>\n",
       "      <th>...</th>\n",
       "      <td>...</td>\n",
       "      <td>...</td>\n",
       "      <td>...</td>\n",
       "      <td>...</td>\n",
       "      <td>...</td>\n",
       "    </tr>\n",
       "    <tr>\n",
       "      <th>12494</th>\n",
       "      <td>2020-10-15</td>\n",
       "      <td>Virginia</td>\n",
       "      <td>51</td>\n",
       "      <td>162941</td>\n",
       "      <td>3388</td>\n",
       "    </tr>\n",
       "    <tr>\n",
       "      <th>12495</th>\n",
       "      <td>2020-10-15</td>\n",
       "      <td>Washington</td>\n",
       "      <td>53</td>\n",
       "      <td>100838</td>\n",
       "      <td>2331</td>\n",
       "    </tr>\n",
       "    <tr>\n",
       "      <th>12496</th>\n",
       "      <td>2020-10-15</td>\n",
       "      <td>West Virginia</td>\n",
       "      <td>54</td>\n",
       "      <td>19082</td>\n",
       "      <td>393</td>\n",
       "    </tr>\n",
       "    <tr>\n",
       "      <th>12497</th>\n",
       "      <td>2020-10-15</td>\n",
       "      <td>Wisconsin</td>\n",
       "      <td>55</td>\n",
       "      <td>171480</td>\n",
       "      <td>1568</td>\n",
       "    </tr>\n",
       "    <tr>\n",
       "      <th>12498</th>\n",
       "      <td>2020-10-15</td>\n",
       "      <td>Wyoming</td>\n",
       "      <td>56</td>\n",
       "      <td>8375</td>\n",
       "      <td>57</td>\n",
       "    </tr>\n",
       "  </tbody>\n",
       "</table>\n",
       "<p>12499 rows × 5 columns</p>\n",
       "</div>"
      ],
      "text/plain": [
       "             date          state  fips   cases  deaths\n",
       "0      2020-01-21     Washington    53       1       0\n",
       "1      2020-01-22     Washington    53       1       0\n",
       "2      2020-01-23     Washington    53       1       0\n",
       "3      2020-01-24       Illinois    17       1       0\n",
       "4      2020-01-24     Washington    53       1       0\n",
       "...           ...            ...   ...     ...     ...\n",
       "12494  2020-10-15       Virginia    51  162941    3388\n",
       "12495  2020-10-15     Washington    53  100838    2331\n",
       "12496  2020-10-15  West Virginia    54   19082     393\n",
       "12497  2020-10-15      Wisconsin    55  171480    1568\n",
       "12498  2020-10-15        Wyoming    56    8375      57\n",
       "\n",
       "[12499 rows x 5 columns]"
      ]
     },
     "execution_count": 5,
     "metadata": {},
     "output_type": "execute_result"
    }
   ],
   "source": [
    "covid_df"
   ]
  },
  {
   "cell_type": "markdown",
   "metadata": {},
   "source": [
    "### Observations\n",
    "\n",
    "* Each row represents one date for one state. \n",
    "\n",
    "* The fips is the Federal Information Processing Standards, or just a state code. \n",
    "\n",
    "* Cases are total current cases in the state. \n",
    "\n",
    "* Deaths are the deaths on that day. "
   ]
  },
  {
   "cell_type": "code",
   "execution_count": 6,
   "metadata": {},
   "outputs": [],
   "source": [
    "covid_df = covid_df.drop('fips', axis=1) #getting rid of fips variable"
   ]
  },
  {
   "cell_type": "code",
   "execution_count": 7,
   "metadata": {},
   "outputs": [
    {
     "data": {
      "text/html": [
       "<div>\n",
       "<style scoped>\n",
       "    .dataframe tbody tr th:only-of-type {\n",
       "        vertical-align: middle;\n",
       "    }\n",
       "\n",
       "    .dataframe tbody tr th {\n",
       "        vertical-align: top;\n",
       "    }\n",
       "\n",
       "    .dataframe thead th {\n",
       "        text-align: right;\n",
       "    }\n",
       "</style>\n",
       "<table border=\"1\" class=\"dataframe\">\n",
       "  <thead>\n",
       "    <tr style=\"text-align: right;\">\n",
       "      <th></th>\n",
       "      <th>date</th>\n",
       "      <th>state</th>\n",
       "      <th>cases</th>\n",
       "      <th>deaths</th>\n",
       "    </tr>\n",
       "  </thead>\n",
       "  <tbody>\n",
       "    <tr>\n",
       "      <th>2421</th>\n",
       "      <td>2020-04-15</td>\n",
       "      <td>Rhode Island</td>\n",
       "      <td>3529</td>\n",
       "      <td>87</td>\n",
       "    </tr>\n",
       "    <tr>\n",
       "      <th>334</th>\n",
       "      <td>2020-03-06</td>\n",
       "      <td>Nebraska</td>\n",
       "      <td>14</td>\n",
       "      <td>0</td>\n",
       "    </tr>\n",
       "    <tr>\n",
       "      <th>1473</th>\n",
       "      <td>2020-03-29</td>\n",
       "      <td>Nevada</td>\n",
       "      <td>920</td>\n",
       "      <td>15</td>\n",
       "    </tr>\n",
       "    <tr>\n",
       "      <th>7147</th>\n",
       "      <td>2020-07-10</td>\n",
       "      <td>Oklahoma</td>\n",
       "      <td>19092</td>\n",
       "      <td>416</td>\n",
       "    </tr>\n",
       "    <tr>\n",
       "      <th>11005</th>\n",
       "      <td>2020-09-18</td>\n",
       "      <td>Texas</td>\n",
       "      <td>713652</td>\n",
       "      <td>15037</td>\n",
       "    </tr>\n",
       "    <tr>\n",
       "      <th>11004</th>\n",
       "      <td>2020-09-18</td>\n",
       "      <td>Tennessee</td>\n",
       "      <td>177707</td>\n",
       "      <td>2173</td>\n",
       "    </tr>\n",
       "    <tr>\n",
       "      <th>3830</th>\n",
       "      <td>2020-05-11</td>\n",
       "      <td>Maryland</td>\n",
       "      <td>33483</td>\n",
       "      <td>1683</td>\n",
       "    </tr>\n",
       "    <tr>\n",
       "      <th>6549</th>\n",
       "      <td>2020-06-29</td>\n",
       "      <td>Tennessee</td>\n",
       "      <td>41388</td>\n",
       "      <td>585</td>\n",
       "    </tr>\n",
       "    <tr>\n",
       "      <th>9147</th>\n",
       "      <td>2020-08-16</td>\n",
       "      <td>Arkansas</td>\n",
       "      <td>52665</td>\n",
       "      <td>599</td>\n",
       "    </tr>\n",
       "    <tr>\n",
       "      <th>12361</th>\n",
       "      <td>2020-10-13</td>\n",
       "      <td>Montana</td>\n",
       "      <td>19682</td>\n",
       "      <td>217</td>\n",
       "    </tr>\n",
       "  </tbody>\n",
       "</table>\n",
       "</div>"
      ],
      "text/plain": [
       "             date         state   cases  deaths\n",
       "2421   2020-04-15  Rhode Island    3529      87\n",
       "334    2020-03-06      Nebraska      14       0\n",
       "1473   2020-03-29        Nevada     920      15\n",
       "7147   2020-07-10      Oklahoma   19092     416\n",
       "11005  2020-09-18         Texas  713652   15037\n",
       "11004  2020-09-18     Tennessee  177707    2173\n",
       "3830   2020-05-11      Maryland   33483    1683\n",
       "6549   2020-06-29     Tennessee   41388     585\n",
       "9147   2020-08-16      Arkansas   52665     599\n",
       "12361  2020-10-13       Montana   19682     217"
      ]
     },
     "execution_count": 7,
     "metadata": {},
     "output_type": "execute_result"
    }
   ],
   "source": [
    "covid_df.sample(10)"
   ]
  },
  {
   "cell_type": "markdown",
   "metadata": {},
   "source": [
    "### Drop rows with 'Guam' 'Virgin Islands' and 'Northern Marina Islands'"
   ]
  },
  {
   "cell_type": "code",
   "execution_count": 8,
   "metadata": {},
   "outputs": [],
   "source": [
    "covid_df.drop(covid_df.index[covid_df['state'] == 'Guam'], inplace = True)\n",
    "covid_df.drop(covid_df.index[covid_df['state'] == 'Virgin Islands'], inplace = True)\n",
    "covid_df.drop(covid_df.index[covid_df['state'] == 'Northern Mariana Islands'], inplace = True)\n",
    "covid_df.drop(covid_df.index[covid_df['state'] == 'Puerto Rico'], inplace = True)"
   ]
  },
  {
   "cell_type": "code",
   "execution_count": 9,
   "metadata": {},
   "outputs": [
    {
     "data": {
      "text/plain": [
       "(11649, 4)"
      ]
     },
     "execution_count": 9,
     "metadata": {},
     "output_type": "execute_result"
    }
   ],
   "source": [
    "covid_df.shape"
   ]
  },
  {
   "cell_type": "code",
   "execution_count": 10,
   "metadata": {},
   "outputs": [
    {
     "data": {
      "text/html": [
       "<div>\n",
       "<style scoped>\n",
       "    .dataframe tbody tr th:only-of-type {\n",
       "        vertical-align: middle;\n",
       "    }\n",
       "\n",
       "    .dataframe tbody tr th {\n",
       "        vertical-align: top;\n",
       "    }\n",
       "\n",
       "    .dataframe thead th {\n",
       "        text-align: right;\n",
       "    }\n",
       "</style>\n",
       "<table border=\"1\" class=\"dataframe\">\n",
       "  <thead>\n",
       "    <tr style=\"text-align: right;\">\n",
       "      <th></th>\n",
       "      <th>date</th>\n",
       "      <th>state</th>\n",
       "      <th>cases</th>\n",
       "      <th>deaths</th>\n",
       "    </tr>\n",
       "    <tr>\n",
       "      <th>date</th>\n",
       "      <th></th>\n",
       "      <th></th>\n",
       "      <th></th>\n",
       "      <th></th>\n",
       "    </tr>\n",
       "  </thead>\n",
       "  <tbody>\n",
       "    <tr>\n",
       "      <th>2020-01-21</th>\n",
       "      <td>2020-01-21</td>\n",
       "      <td>Washington</td>\n",
       "      <td>1</td>\n",
       "      <td>0</td>\n",
       "    </tr>\n",
       "    <tr>\n",
       "      <th>2020-01-22</th>\n",
       "      <td>2020-01-22</td>\n",
       "      <td>Washington</td>\n",
       "      <td>1</td>\n",
       "      <td>0</td>\n",
       "    </tr>\n",
       "    <tr>\n",
       "      <th>2020-01-23</th>\n",
       "      <td>2020-01-23</td>\n",
       "      <td>Washington</td>\n",
       "      <td>1</td>\n",
       "      <td>0</td>\n",
       "    </tr>\n",
       "    <tr>\n",
       "      <th>2020-01-24</th>\n",
       "      <td>2020-01-24</td>\n",
       "      <td>Illinois</td>\n",
       "      <td>1</td>\n",
       "      <td>0</td>\n",
       "    </tr>\n",
       "    <tr>\n",
       "      <th>2020-01-24</th>\n",
       "      <td>2020-01-24</td>\n",
       "      <td>Washington</td>\n",
       "      <td>1</td>\n",
       "      <td>0</td>\n",
       "    </tr>\n",
       "    <tr>\n",
       "      <th>...</th>\n",
       "      <td>...</td>\n",
       "      <td>...</td>\n",
       "      <td>...</td>\n",
       "      <td>...</td>\n",
       "    </tr>\n",
       "    <tr>\n",
       "      <th>2020-10-15</th>\n",
       "      <td>2020-10-15</td>\n",
       "      <td>Virginia</td>\n",
       "      <td>162941</td>\n",
       "      <td>3388</td>\n",
       "    </tr>\n",
       "    <tr>\n",
       "      <th>2020-10-15</th>\n",
       "      <td>2020-10-15</td>\n",
       "      <td>Washington</td>\n",
       "      <td>100838</td>\n",
       "      <td>2331</td>\n",
       "    </tr>\n",
       "    <tr>\n",
       "      <th>2020-10-15</th>\n",
       "      <td>2020-10-15</td>\n",
       "      <td>West Virginia</td>\n",
       "      <td>19082</td>\n",
       "      <td>393</td>\n",
       "    </tr>\n",
       "    <tr>\n",
       "      <th>2020-10-15</th>\n",
       "      <td>2020-10-15</td>\n",
       "      <td>Wisconsin</td>\n",
       "      <td>171480</td>\n",
       "      <td>1568</td>\n",
       "    </tr>\n",
       "    <tr>\n",
       "      <th>2020-10-15</th>\n",
       "      <td>2020-10-15</td>\n",
       "      <td>Wyoming</td>\n",
       "      <td>8375</td>\n",
       "      <td>57</td>\n",
       "    </tr>\n",
       "  </tbody>\n",
       "</table>\n",
       "<p>11649 rows × 4 columns</p>\n",
       "</div>"
      ],
      "text/plain": [
       "                  date          state   cases  deaths\n",
       "date                                                 \n",
       "2020-01-21  2020-01-21     Washington       1       0\n",
       "2020-01-22  2020-01-22     Washington       1       0\n",
       "2020-01-23  2020-01-23     Washington       1       0\n",
       "2020-01-24  2020-01-24       Illinois       1       0\n",
       "2020-01-24  2020-01-24     Washington       1       0\n",
       "...                ...            ...     ...     ...\n",
       "2020-10-15  2020-10-15       Virginia  162941    3388\n",
       "2020-10-15  2020-10-15     Washington  100838    2331\n",
       "2020-10-15  2020-10-15  West Virginia   19082     393\n",
       "2020-10-15  2020-10-15      Wisconsin  171480    1568\n",
       "2020-10-15  2020-10-15        Wyoming    8375      57\n",
       "\n",
       "[11649 rows x 4 columns]"
      ]
     },
     "execution_count": 10,
     "metadata": {},
     "output_type": "execute_result"
    }
   ],
   "source": [
    "# Index by dates\n",
    "covid_df.index= pd.DatetimeIndex(covid_df['date'])\n",
    "covid_df"
   ]
  },
  {
   "cell_type": "code",
   "execution_count": 11,
   "metadata": {},
   "outputs": [
    {
     "data": {
      "text/html": [
       "<div>\n",
       "<style scoped>\n",
       "    .dataframe tbody tr th:only-of-type {\n",
       "        vertical-align: middle;\n",
       "    }\n",
       "\n",
       "    .dataframe tbody tr th {\n",
       "        vertical-align: top;\n",
       "    }\n",
       "\n",
       "    .dataframe thead th {\n",
       "        text-align: right;\n",
       "    }\n",
       "</style>\n",
       "<table border=\"1\" class=\"dataframe\">\n",
       "  <thead>\n",
       "    <tr style=\"text-align: right;\">\n",
       "      <th></th>\n",
       "      <th>date</th>\n",
       "      <th>state</th>\n",
       "      <th>cases</th>\n",
       "      <th>deaths</th>\n",
       "    </tr>\n",
       "    <tr>\n",
       "      <th>date</th>\n",
       "      <th></th>\n",
       "      <th></th>\n",
       "      <th></th>\n",
       "      <th></th>\n",
       "    </tr>\n",
       "  </thead>\n",
       "  <tbody>\n",
       "    <tr>\n",
       "      <th>2020-03-01</th>\n",
       "      <td>2020-03-01</td>\n",
       "      <td>Arizona</td>\n",
       "      <td>1</td>\n",
       "      <td>0</td>\n",
       "    </tr>\n",
       "    <tr>\n",
       "      <th>2020-03-01</th>\n",
       "      <td>2020-03-01</td>\n",
       "      <td>California</td>\n",
       "      <td>33</td>\n",
       "      <td>0</td>\n",
       "    </tr>\n",
       "    <tr>\n",
       "      <th>2020-03-01</th>\n",
       "      <td>2020-03-01</td>\n",
       "      <td>Florida</td>\n",
       "      <td>2</td>\n",
       "      <td>0</td>\n",
       "    </tr>\n",
       "    <tr>\n",
       "      <th>2020-03-01</th>\n",
       "      <td>2020-03-01</td>\n",
       "      <td>Illinois</td>\n",
       "      <td>3</td>\n",
       "      <td>0</td>\n",
       "    </tr>\n",
       "    <tr>\n",
       "      <th>2020-03-01</th>\n",
       "      <td>2020-03-01</td>\n",
       "      <td>Massachusetts</td>\n",
       "      <td>1</td>\n",
       "      <td>0</td>\n",
       "    </tr>\n",
       "    <tr>\n",
       "      <th>...</th>\n",
       "      <td>...</td>\n",
       "      <td>...</td>\n",
       "      <td>...</td>\n",
       "      <td>...</td>\n",
       "    </tr>\n",
       "    <tr>\n",
       "      <th>2020-03-31</th>\n",
       "      <td>2020-03-31</td>\n",
       "      <td>Virginia</td>\n",
       "      <td>1249</td>\n",
       "      <td>27</td>\n",
       "    </tr>\n",
       "    <tr>\n",
       "      <th>2020-03-31</th>\n",
       "      <td>2020-03-31</td>\n",
       "      <td>Washington</td>\n",
       "      <td>5293</td>\n",
       "      <td>226</td>\n",
       "    </tr>\n",
       "    <tr>\n",
       "      <th>2020-03-31</th>\n",
       "      <td>2020-03-31</td>\n",
       "      <td>West Virginia</td>\n",
       "      <td>162</td>\n",
       "      <td>1</td>\n",
       "    </tr>\n",
       "    <tr>\n",
       "      <th>2020-03-31</th>\n",
       "      <td>2020-03-31</td>\n",
       "      <td>Wisconsin</td>\n",
       "      <td>1351</td>\n",
       "      <td>25</td>\n",
       "    </tr>\n",
       "    <tr>\n",
       "      <th>2020-03-31</th>\n",
       "      <td>2020-03-31</td>\n",
       "      <td>Wyoming</td>\n",
       "      <td>121</td>\n",
       "      <td>0</td>\n",
       "    </tr>\n",
       "  </tbody>\n",
       "</table>\n",
       "<p>1311 rows × 4 columns</p>\n",
       "</div>"
      ],
      "text/plain": [
       "                  date          state  cases  deaths\n",
       "date                                                \n",
       "2020-03-01  2020-03-01        Arizona      1       0\n",
       "2020-03-01  2020-03-01     California     33       0\n",
       "2020-03-01  2020-03-01        Florida      2       0\n",
       "2020-03-01  2020-03-01       Illinois      3       0\n",
       "2020-03-01  2020-03-01  Massachusetts      1       0\n",
       "...                ...            ...    ...     ...\n",
       "2020-03-31  2020-03-31       Virginia   1249      27\n",
       "2020-03-31  2020-03-31     Washington   5293     226\n",
       "2020-03-31  2020-03-31  West Virginia    162       1\n",
       "2020-03-31  2020-03-31      Wisconsin   1351      25\n",
       "2020-03-31  2020-03-31        Wyoming    121       0\n",
       "\n",
       "[1311 rows x 4 columns]"
      ]
     },
     "execution_count": 11,
     "metadata": {},
     "output_type": "execute_result"
    }
   ],
   "source": [
    "# look specifically at march\n",
    "covid_df.loc['2020-03']"
   ]
  },
  {
   "cell_type": "code",
   "execution_count": 12,
   "metadata": {},
   "outputs": [
    {
     "data": {
      "text/html": [
       "<div>\n",
       "<style scoped>\n",
       "    .dataframe tbody tr th:only-of-type {\n",
       "        vertical-align: middle;\n",
       "    }\n",
       "\n",
       "    .dataframe tbody tr th {\n",
       "        vertical-align: top;\n",
       "    }\n",
       "\n",
       "    .dataframe thead th {\n",
       "        text-align: right;\n",
       "    }\n",
       "</style>\n",
       "<table border=\"1\" class=\"dataframe\">\n",
       "  <thead>\n",
       "    <tr style=\"text-align: right;\">\n",
       "      <th></th>\n",
       "      <th></th>\n",
       "      <th>cases</th>\n",
       "      <th>deaths</th>\n",
       "    </tr>\n",
       "    <tr>\n",
       "      <th>state</th>\n",
       "      <th>date</th>\n",
       "      <th></th>\n",
       "      <th></th>\n",
       "    </tr>\n",
       "  </thead>\n",
       "  <tbody>\n",
       "    <tr>\n",
       "      <th rowspan=\"5\" valign=\"top\">Alabama</th>\n",
       "      <th>2020-03-31</th>\n",
       "      <td>322.578947</td>\n",
       "      <td>2.210526</td>\n",
       "    </tr>\n",
       "    <tr>\n",
       "      <th>2020-04-30</th>\n",
       "      <td>4172.200000</td>\n",
       "      <td>134.800000</td>\n",
       "    </tr>\n",
       "    <tr>\n",
       "      <th>2020-05-31</th>\n",
       "      <td>12001.064516</td>\n",
       "      <td>465.741935</td>\n",
       "    </tr>\n",
       "    <tr>\n",
       "      <th>2020-06-30</th>\n",
       "      <td>26676.233333</td>\n",
       "      <td>789.900000</td>\n",
       "    </tr>\n",
       "    <tr>\n",
       "      <th>2020-07-31</th>\n",
       "      <td>61881.806452</td>\n",
       "      <td>1239.870968</td>\n",
       "    </tr>\n",
       "    <tr>\n",
       "      <th>...</th>\n",
       "      <th>...</th>\n",
       "      <td>...</td>\n",
       "      <td>...</td>\n",
       "    </tr>\n",
       "    <tr>\n",
       "      <th rowspan=\"5\" valign=\"top\">Wyoming</th>\n",
       "      <th>2020-06-30</th>\n",
       "      <td>1123.800000</td>\n",
       "      <td>18.500000</td>\n",
       "    </tr>\n",
       "    <tr>\n",
       "      <th>2020-07-31</th>\n",
       "      <td>2063.870968</td>\n",
       "      <td>22.903226</td>\n",
       "    </tr>\n",
       "    <tr>\n",
       "      <th>2020-08-31</th>\n",
       "      <td>3301.806452</td>\n",
       "      <td>31.967742</td>\n",
       "    </tr>\n",
       "    <tr>\n",
       "      <th>2020-09-30</th>\n",
       "      <td>4668.533333</td>\n",
       "      <td>45.833333</td>\n",
       "    </tr>\n",
       "    <tr>\n",
       "      <th>2020-10-31</th>\n",
       "      <td>7151.666667</td>\n",
       "      <td>54.133333</td>\n",
       "    </tr>\n",
       "  </tbody>\n",
       "</table>\n",
       "<p>422 rows × 2 columns</p>\n",
       "</div>"
      ],
      "text/plain": [
       "                           cases       deaths\n",
       "state   date                                 \n",
       "Alabama 2020-03-31    322.578947     2.210526\n",
       "        2020-04-30   4172.200000   134.800000\n",
       "        2020-05-31  12001.064516   465.741935\n",
       "        2020-06-30  26676.233333   789.900000\n",
       "        2020-07-31  61881.806452  1239.870968\n",
       "...                          ...          ...\n",
       "Wyoming 2020-06-30   1123.800000    18.500000\n",
       "        2020-07-31   2063.870968    22.903226\n",
       "        2020-08-31   3301.806452    31.967742\n",
       "        2020-09-30   4668.533333    45.833333\n",
       "        2020-10-31   7151.666667    54.133333\n",
       "\n",
       "[422 rows x 2 columns]"
      ]
     },
     "execution_count": 12,
     "metadata": {},
     "output_type": "execute_result"
    }
   ],
   "source": [
    "#group by state monthly\n",
    "bymonthly_state = covid_df.groupby('state').resample('M').mean()\n",
    "bymonthly_state"
   ]
  },
  {
   "cell_type": "code",
   "execution_count": 13,
   "metadata": {},
   "outputs": [
    {
     "data": {
      "text/plain": [
       "<AxesSubplot:xlabel='state,date'>"
      ]
     },
     "execution_count": 13,
     "metadata": {},
     "output_type": "execute_result"
    },
    {
     "data": {
      "image/png": "[encoded data removed]",
      "text/plain": [
       "<Figure size 1440x288 with 1 Axes>"
      ]
     },
     "metadata": {
      "needs_background": "light"
     },
     "output_type": "display_data"
    }
   ],
   "source": [
    "#see where the major spikes are in cases and deaths\n",
    "bymonthly_state.plot(figsize=(20,4))"
   ]
  },
  {
   "cell_type": "code",
   "execution_count": 14,
   "metadata": {
    "scrolled": true
   },
   "outputs": [
    {
     "data": {
      "image/png": "[encoded data removed]",
      "text/plain": [
       "<Figure size 1152x288 with 2 Axes>"
      ]
     },
     "metadata": {
      "needs_background": "light"
     },
     "output_type": "display_data"
    }
   ],
   "source": [
    "states_to_use = ['New York', 'California', 'Massachusetts', 'Texas', 'Florida','Michigan']\n",
    "state_filter = covid_df['state'].isin(states_to_use)\n",
    "fig,ax=plt.subplots(1,2, figsize=(16,4))\n",
    "ts_plot=covid_df[state_filter].groupby('state')['deaths'].plot(ax=ax[0], \n",
    "                                                              legend=True,\n",
    "                                                             title=\"Cumulative deaths\")\n",
    "ts2_plot=covid_df[state_filter].groupby('state')['cases'].plot(ax=ax[1], \n",
    "                                                                   legend=True,\n",
    "                                                                  title=\"Cumulative cases\")"
   ]
  },
  {
   "cell_type": "markdown",
   "metadata": {},
   "source": [
    "# Save cleaned dataset as a new csv"
   ]
  },
  {
   "cell_type": "code",
   "execution_count": 15,
   "metadata": {},
   "outputs": [],
   "source": [
    "covid_df.to_csv('../data/clean/covidstate_clean.csv', index=False)"
   ]
  },
  {
   "cell_type": "code",
   "execution_count": 16,
   "metadata": {},
   "outputs": [
    {
     "data": {
      "text/plain": [
       "Text(0, 0.5, 'death mean')"
      ]
     },
     "execution_count": 16,
     "metadata": {},
     "output_type": "execute_result"
    },
    {
     "data": {
      "image/png": "[encoded data removed]",
      "text/plain": [
       "<Figure size 864x288 with 1 Axes>"
      ]
     },
     "metadata": {
      "needs_background": "light"
     },
     "output_type": "display_data"
    }
   ],
   "source": [
    "#deaths mean in states\n",
    "statedeath_mean = covid_df.groupby('state')['deaths'].mean()\n",
    "statedeath_mean.plot(kind='bar', \n",
    "                 legend=False,\n",
    "                      figsize= (12,4))\n",
    "\n",
    "plt.title('Mean deaths in states from January-October 2020')\n",
    "plt.xlabel('state')\n",
    "plt.ylabel('death mean')"
   ]
  },
  {
   "cell_type": "code",
   "execution_count": 17,
   "metadata": {},
   "outputs": [
    {
     "data": {
      "text/plain": [
       "Text(0, 0.5, 'cases mean')"
      ]
     },
     "execution_count": 17,
     "metadata": {},
     "output_type": "execute_result"
    },
    {
     "data": {
      "image/png": "[encoded data removed]",
      "text/plain": [
       "<Figure size 864x288 with 1 Axes>"
      ]
     },
     "metadata": {
      "needs_background": "light"
     },
     "output_type": "display_data"
    }
   ],
   "source": [
    "statecases_mean = covid_df.groupby('state')['cases'].mean()\n",
    "statecases_mean.plot(kind='bar', \n",
    "                 legend=False,\n",
    "                      figsize= (12,4))\n",
    "\n",
    "plt.title('Mean cases in states from January-October 2020')\n",
    "plt.xlabel('state')\n",
    "plt.ylabel('cases mean')"
   ]
  },
  {
   "cell_type": "markdown",
   "metadata": {},
   "source": [
    "# In this part of the notebook, we will look at the following ways of using data in a story:\n",
    "    \n",
    "    * 1. Internal comparison \n",
    "    \n",
    "    * 2. Proportion\n",
    "    "
   ]
  },
  {
   "cell_type": "code",
   "execution_count": 18,
   "metadata": {},
   "outputs": [
    {
     "data": {
      "text/plain": [
       "(11649, 4)"
      ]
     },
     "execution_count": 18,
     "metadata": {},
     "output_type": "execute_result"
    }
   ],
   "source": [
    "covid_df.shape"
   ]
  },
  {
   "cell_type": "markdown",
   "metadata": {},
   "source": [
    "### 1. Internal Comparison"
   ]
  },
  {
   "cell_type": "markdown",
   "metadata": {},
   "source": [
    "#### Q1. Did Texas or California have more cases and deaths?\n",
    "\n",
    "* Steps:\n",
    "    1. create filters on the `covid_df` data frame to find rows with:\n",
    "        * `deaths` value\n",
    "        * `cases` value \n",
    "    2. create a subset of the data frame called `california_data` and 'texas_data' with just these rows\n",
    "    3. count the number of rows"
   ]
  },
  {
   "cell_type": "code",
   "execution_count": 19,
   "metadata": {},
   "outputs": [],
   "source": [
    "# 1a. create filters for cases and deaths\n",
    "\n",
    "case_count=covid_df['cases']>0\n",
    "death_count=covid_df['deaths']>0\n"
   ]
  },
  {
   "cell_type": "code",
   "execution_count": 20,
   "metadata": {},
   "outputs": [],
   "source": [
    "# 1b. filters for state\n",
    "california_data = covid_df['state']=='California'\n",
    "texas_data = covid_df['state']=='Texas'"
   ]
  },
  {
   "cell_type": "code",
   "execution_count": 21,
   "metadata": {},
   "outputs": [],
   "source": [
    "# find the amount of california cases and texas cases\n",
    "california_cases=covid_df[case_count & california_data].shape[0]\n",
    "\n",
    "texas_cases=covid_df[case_count & texas_data].shape[0]"
   ]
  },
  {
   "cell_type": "code",
   "execution_count": 22,
   "metadata": {},
   "outputs": [
    {
     "name": "stdout",
     "output_type": "stream",
     "text": [
      "265 247\n"
     ]
    }
   ],
   "source": [
    "print(california_cases, texas_cases)"
   ]
  },
  {
   "cell_type": "markdown",
   "metadata": {},
   "source": [
    "* This seems like too small of a number for cases in California and Texas, uncertain that these are correct values, will forgo in final presentation"
   ]
  },
  {
   "cell_type": "code",
   "execution_count": 23,
   "metadata": {},
   "outputs": [],
   "source": [
    "#add deaths code here\n",
    "california_deaths=covid_df[death_count & california_data].shape[0]\n",
    "\n",
    "texas_deaths=covid_df[death_count & texas_data].shape[0]"
   ]
  },
  {
   "cell_type": "code",
   "execution_count": 24,
   "metadata": {},
   "outputs": [
    {
     "name": "stdout",
     "output_type": "stream",
     "text": [
      "226 214\n"
     ]
    }
   ],
   "source": [
    "print(california_deaths, texas_deaths)"
   ]
  },
  {
   "cell_type": "markdown",
   "metadata": {},
   "source": [
    "* These calculations of this data do not seem to make sense-- uncertain to use this in final presentation "
   ]
  },
  {
   "cell_type": "markdown",
   "metadata": {},
   "source": [
    "### 2. Proportion"
   ]
  },
  {
   "cell_type": "markdown",
   "metadata": {},
   "source": [
    "#### Q1. What was the proportion of deaths to cases?\n",
    "\n",
    "* Steps:\n",
    "    1. create filters on the `covid_df` data frame to find rows with:\n",
    "        * `case_count` value of `True`\n",
    "        * `death_count` value of 'True'\n",
    "    2. create subset data frames\n",
    "        a. one called `cases_us`\n",
    "        b. another called `deaths_us` with just these rows\n",
    "    3. count the number of rows in both subsets\n",
    "    4. calculate the proportion as a percentage"
   ]
  },
  {
   "cell_type": "code",
   "execution_count": 25,
   "metadata": {},
   "outputs": [],
   "source": [
    "# 1. create filters\n",
    "case_count=covid_df['cases']>0\n",
    "death_count=covid_df['deaths']>0\n",
    "\n",
    "\n",
    "# 2. create subset data frames\n",
    "cases_us = covid_df[case_count]\n",
    "deaths_us = covid_df[case_count & death_count]\n",
    "\n",
    "#3. count rows\n",
    "num_cases_us =cases_us.shape[0]\n",
    "num_deaths_us=deaths_us.shape[0]\n",
    "\n",
    "\n",
    "# 4. calculate the proportion\n",
    "deathvcases_percent = num_deaths_us / num_cases_us * 100\n"
   ]
  },
  {
   "cell_type": "code",
   "execution_count": 26,
   "metadata": {},
   "outputs": [
    {
     "data": {
      "text/plain": [
       "92.15383294703408"
      ]
     },
     "execution_count": 26,
     "metadata": {},
     "output_type": "execute_result"
    }
   ],
   "source": [
    "deathvcases_percent"
   ]
  },
  {
   "cell_type": "markdown",
   "metadata": {},
   "source": [
    "* There is a 92.35% rate of deaths per cases\n",
    "* Not certain that this calculation is correct, will forgo using this in my final presentation"
   ]
  },
  {
   "cell_type": "markdown",
   "metadata": {},
   "source": []
  },
  {
   "cell_type": "code",
   "execution_count": null,
   "metadata": {},
   "outputs": [],
   "source": []
  }
 ],
 "metadata": {
  "kernelspec": {
   "display_name": "Python 3",
   "language": "python",
   "name": "python3"
  },
  "language_info": {
   "codemirror_mode": {
    "name": "ipython",
    "version": 3
   },
   "file_extension": ".py",
   "mimetype": "text/x-python",
   "name": "python",
   "nbconvert_exporter": "python",
   "pygments_lexer": "ipython3",
   "version": "3.7.3"
  }
 },
 "nbformat": 4,
 "nbformat_minor": 2
}
